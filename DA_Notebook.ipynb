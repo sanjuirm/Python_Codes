{
 "cells": [
  {
   "cell_type": "markdown",
   "metadata": {},
   "source": [
    "1. Importing data files into python(Jypiter notebook) through Pandas..  "
   ]
  },
  {
   "cell_type": "code",
   "execution_count": 1,
   "metadata": {},
   "outputs": [
    {
     "name": "stdout",
     "output_type": "stream",
     "text": [
      "     0    1            2       3      4     5            6    7      8   \\\n",
      "0     3    ?  alfa-romero     gas    std   two  convertible  rwd  front   \n",
      "1     3    ?  alfa-romero     gas    std   two  convertible  rwd  front   \n",
      "2     1    ?  alfa-romero     gas    std   two    hatchback  rwd  front   \n",
      "3     2  164         audi     gas    std  four        sedan  fwd  front   \n",
      "4     2  164         audi     gas    std  four        sedan  4wd  front   \n",
      "..   ..  ...          ...     ...    ...   ...          ...  ...    ...   \n",
      "200  -1   95        volvo     gas    std  four        sedan  rwd  front   \n",
      "201  -1   95        volvo     gas  turbo  four        sedan  rwd  front   \n",
      "202  -1   95        volvo     gas    std  four        sedan  rwd  front   \n",
      "203  -1   95        volvo  diesel  turbo  four        sedan  rwd  front   \n",
      "204  -1   95        volvo     gas  turbo  four        sedan  rwd  front   \n",
      "\n",
      "        9   ...   16    17    18    19    20   21    22  23  24     25  \n",
      "0     88.6  ...  130  mpfi  3.47  2.68   9.0  111  5000  21  27  13495  \n",
      "1     88.6  ...  130  mpfi  3.47  2.68   9.0  111  5000  21  27  16500  \n",
      "2     94.5  ...  152  mpfi  2.68  3.47   9.0  154  5000  19  26  16500  \n",
      "3     99.8  ...  109  mpfi  3.19  3.40  10.0  102  5500  24  30  13950  \n",
      "4     99.4  ...  136  mpfi  3.19  3.40   8.0  115  5500  18  22  17450  \n",
      "..     ...  ...  ...   ...   ...   ...   ...  ...   ...  ..  ..    ...  \n",
      "200  109.1  ...  141  mpfi  3.78  3.15   9.5  114  5400  23  28  16845  \n",
      "201  109.1  ...  141  mpfi  3.78  3.15   8.7  160  5300  19  25  19045  \n",
      "202  109.1  ...  173  mpfi  3.58  2.87   8.8  134  5500  18  23  21485  \n",
      "203  109.1  ...  145   idi  3.01  3.40  23.0  106  4800  26  27  22470  \n",
      "204  109.1  ...  141  mpfi  3.78  3.15   9.5  114  5400  19  25  22625  \n",
      "\n",
      "[205 rows x 26 columns]\n"
     ]
    }
   ],
   "source": [
    "import pandas as pd\n",
    "import matplotlib.pyplot as plt\n",
    "import numpy as np\n",
    "import scipy\n",
    "import seaborn as sns\n",
    "df=pd.read_csv(r\"C:\\Users\\sanju\\OneDrive\\Desktop\\imports-85.data\", header=None) #reading the csv file and saying it doesn't have any headers\n",
    "print(df)      "
   ]
  },
  {
   "cell_type": "markdown",
   "metadata": {},
   "source": [
    "2. As the file contains no header, thus we will add headers."
   ]
  },
  {
   "cell_type": "code",
   "execution_count": 2,
   "metadata": {},
   "outputs": [
    {
     "name": "stdout",
     "output_type": "stream",
     "text": [
      "   symboling normalized-losses         make fuel-type aspiration num-of-doors  \\\n",
      "0          3                 ?  alfa-romero       gas        std          two   \n",
      "1          3                 ?  alfa-romero       gas        std          two   \n",
      "2          1                 ?  alfa-romero       gas        std          two   \n",
      "3          2               164         audi       gas        std         four   \n",
      "4          2               164         audi       gas        std         four   \n",
      "\n",
      "    body-style drive-wheels engine-location  wheel-base  ...  engine-size  \\\n",
      "0  convertible          rwd           front        88.6  ...          130   \n",
      "1  convertible          rwd           front        88.6  ...          130   \n",
      "2    hatchback          rwd           front        94.5  ...          152   \n",
      "3        sedan          fwd           front        99.8  ...          109   \n",
      "4        sedan          4wd           front        99.4  ...          136   \n",
      "\n",
      "   fuel-system  bore  stroke compression-ratio horsepower  peak-rpm city-mg  \\\n",
      "0         mpfi  3.47    2.68               9.0        111      5000      21   \n",
      "1         mpfi  3.47    2.68               9.0        111      5000      21   \n",
      "2         mpfi  2.68    3.47               9.0        154      5000      19   \n",
      "3         mpfi  3.19    3.40              10.0        102      5500      24   \n",
      "4         mpfi  3.19    3.40               8.0        115      5500      18   \n",
      "\n",
      "  highway-mpg  price  \n",
      "0          27  13495  \n",
      "1          27  16500  \n",
      "2          26  16500  \n",
      "3          30  13950  \n",
      "4          22  17450  \n",
      "\n",
      "[5 rows x 26 columns]\n",
      "0         gas\n",
      "1         gas\n",
      "2         gas\n",
      "3         gas\n",
      "4         gas\n",
      "        ...  \n",
      "200       gas\n",
      "201       gas\n",
      "202       gas\n",
      "203    diesel\n",
      "204       gas\n",
      "Name: fuel-type, Length: 205, dtype: object\n"
     ]
    }
   ],
   "source": [
    "headers = [\"symboling\",\"normalized-losses\",\"make\",\"fuel-type\",\"aspiration\", \"num-of-doors\",\"body-style\",\"drive-wheels\",\"engine-location\",\"wheel-base\", \"length\",\"width\",\"height\",\"curb-weight\",\"engine-type\", \"num-of-cylinders\", \"engine-size\",\"fuel-system\",\"bore\",\"stroke\",\"compression-ratio\",\"horsepower\",\"peak-rpm\",\"city-mg\",\"highway-mpg\",\"price\"]\n",
    "df.columns=headers     #adding the headres in columns\n",
    "print(df.head(5))      #printing only first 5 rows \n",
    "print(df['fuel-type']) #printing only a column data"
   ]
  },
  {
   "cell_type": "markdown",
   "metadata": {},
   "source": [
    "3. indentifying and cleaning missing values."
   ]
  },
  {
   "cell_type": "code",
   "execution_count": 3,
   "metadata": {},
   "outputs": [
    {
     "name": "stdout",
     "output_type": "stream",
     "text": [
      "     symboling normalized-losses         make fuel-type aspiration  \\\n",
      "0            3               NaN  alfa-romero       gas        std   \n",
      "1            3               NaN  alfa-romero       gas        std   \n",
      "2            1               NaN  alfa-romero       gas        std   \n",
      "3            2               164         audi       gas        std   \n",
      "4            2               164         audi       gas        std   \n",
      "..         ...               ...          ...       ...        ...   \n",
      "200         -1                95        volvo       gas        std   \n",
      "201         -1                95        volvo       gas      turbo   \n",
      "202         -1                95        volvo       gas        std   \n",
      "203         -1                95        volvo    diesel      turbo   \n",
      "204         -1                95        volvo       gas      turbo   \n",
      "\n",
      "    num-of-doors   body-style drive-wheels engine-location  wheel-base  ...  \\\n",
      "0            two  convertible          rwd           front        88.6  ...   \n",
      "1            two  convertible          rwd           front        88.6  ...   \n",
      "2            two    hatchback          rwd           front        94.5  ...   \n",
      "3           four        sedan          fwd           front        99.8  ...   \n",
      "4           four        sedan          4wd           front        99.4  ...   \n",
      "..           ...          ...          ...             ...         ...  ...   \n",
      "200         four        sedan          rwd           front       109.1  ...   \n",
      "201         four        sedan          rwd           front       109.1  ...   \n",
      "202         four        sedan          rwd           front       109.1  ...   \n",
      "203         four        sedan          rwd           front       109.1  ...   \n",
      "204         four        sedan          rwd           front       109.1  ...   \n",
      "\n",
      "     engine-size  fuel-system  bore  stroke compression-ratio horsepower  \\\n",
      "0            130         mpfi  3.47    2.68               9.0        111   \n",
      "1            130         mpfi  3.47    2.68               9.0        111   \n",
      "2            152         mpfi  2.68    3.47               9.0        154   \n",
      "3            109         mpfi  3.19    3.40              10.0        102   \n",
      "4            136         mpfi  3.19    3.40               8.0        115   \n",
      "..           ...          ...   ...     ...               ...        ...   \n",
      "200          141         mpfi  3.78    3.15               9.5        114   \n",
      "201          141         mpfi  3.78    3.15               8.7        160   \n",
      "202          173         mpfi  3.58    2.87               8.8        134   \n",
      "203          145          idi  3.01    3.40              23.0        106   \n",
      "204          141         mpfi  3.78    3.15               9.5        114   \n",
      "\n",
      "     peak-rpm city-mg highway-mpg  price  \n",
      "0        5000      21          27  13495  \n",
      "1        5000      21          27  16500  \n",
      "2        5000      19          26  16500  \n",
      "3        5500      24          30  13950  \n",
      "4        5500      18          22  17450  \n",
      "..        ...     ...         ...    ...  \n",
      "200      5400      23          28  16845  \n",
      "201      5300      19          25  19045  \n",
      "202      5500      18          23  21485  \n",
      "203      4800      26          27  22470  \n",
      "204      5400      19          25  22625  \n",
      "\n",
      "[205 rows x 26 columns]\n"
     ]
    }
   ],
   "source": [
    "import numpy as np\n",
    "df.replace('?',np.nan, inplace=True)     #replacing ? with nan\n",
    "print(df)"
   ]
  },
  {
   "cell_type": "markdown",
   "metadata": {},
   "source": [
    "4. Identifying missing values and counting  no of them."
   ]
  },
  {
   "cell_type": "code",
   "execution_count": 4,
   "metadata": {},
   "outputs": [
    {
     "name": "stdout",
     "output_type": "stream",
     "text": [
      "symboling\n",
      "False    205\n",
      "Name: symboling, dtype: int64\n",
      "\n",
      "normalized-losses\n",
      "False    164\n",
      "True      41\n",
      "Name: normalized-losses, dtype: int64\n",
      "\n",
      "make\n",
      "False    205\n",
      "Name: make, dtype: int64\n",
      "\n",
      "fuel-type\n",
      "False    205\n",
      "Name: fuel-type, dtype: int64\n",
      "\n",
      "aspiration\n",
      "False    205\n",
      "Name: aspiration, dtype: int64\n",
      "\n",
      "num-of-doors\n",
      "False    203\n",
      "True       2\n",
      "Name: num-of-doors, dtype: int64\n",
      "\n",
      "body-style\n",
      "False    205\n",
      "Name: body-style, dtype: int64\n",
      "\n",
      "drive-wheels\n",
      "False    205\n",
      "Name: drive-wheels, dtype: int64\n",
      "\n",
      "engine-location\n",
      "False    205\n",
      "Name: engine-location, dtype: int64\n",
      "\n",
      "wheel-base\n",
      "False    205\n",
      "Name: wheel-base, dtype: int64\n",
      "\n",
      "length\n",
      "False    205\n",
      "Name: length, dtype: int64\n",
      "\n",
      "width\n",
      "False    205\n",
      "Name: width, dtype: int64\n",
      "\n",
      "height\n",
      "False    205\n",
      "Name: height, dtype: int64\n",
      "\n",
      "curb-weight\n",
      "False    205\n",
      "Name: curb-weight, dtype: int64\n",
      "\n",
      "engine-type\n",
      "False    205\n",
      "Name: engine-type, dtype: int64\n",
      "\n",
      "num-of-cylinders\n",
      "False    205\n",
      "Name: num-of-cylinders, dtype: int64\n",
      "\n",
      "engine-size\n",
      "False    205\n",
      "Name: engine-size, dtype: int64\n",
      "\n",
      "fuel-system\n",
      "False    205\n",
      "Name: fuel-system, dtype: int64\n",
      "\n",
      "bore\n",
      "False    201\n",
      "True       4\n",
      "Name: bore, dtype: int64\n",
      "\n",
      "stroke\n",
      "False    201\n",
      "True       4\n",
      "Name: stroke, dtype: int64\n",
      "\n",
      "compression-ratio\n",
      "False    205\n",
      "Name: compression-ratio, dtype: int64\n",
      "\n",
      "horsepower\n",
      "False    203\n",
      "True       2\n",
      "Name: horsepower, dtype: int64\n",
      "\n",
      "peak-rpm\n",
      "False    203\n",
      "True       2\n",
      "Name: peak-rpm, dtype: int64\n",
      "\n",
      "city-mg\n",
      "False    205\n",
      "Name: city-mg, dtype: int64\n",
      "\n",
      "highway-mpg\n",
      "False    205\n",
      "Name: highway-mpg, dtype: int64\n",
      "\n",
      "price\n",
      "False    201\n",
      "True       4\n",
      "Name: price, dtype: int64\n",
      "\n"
     ]
    }
   ],
   "source": [
    "df1=df.isnull()                          #indentifying missing values\n",
    "for column in df1.columns.values.tolist():\n",
    "    print(column)\n",
    "    print (df1[column].value_counts())   #counting no of missing values. \n",
    "    print(\"\")    "
   ]
  },
  {
   "cell_type": "markdown",
   "metadata": {},
   "source": [
    "5. Clearing rows with missing values."
   ]
  },
  {
   "cell_type": "code",
   "execution_count": 5,
   "metadata": {},
   "outputs": [
    {
     "name": "stdout",
     "output_type": "stream",
     "text": [
      "     symboling normalized-losses   make fuel-type aspiration num-of-doors  \\\n",
      "3            2               164   audi       gas        std         four   \n",
      "4            2               164   audi       gas        std         four   \n",
      "6            1               158   audi       gas        std         four   \n",
      "8            1               158   audi       gas      turbo         four   \n",
      "10           2               192    bmw       gas        std          two   \n",
      "..         ...               ...    ...       ...        ...          ...   \n",
      "200         -1                95  volvo       gas        std         four   \n",
      "201         -1                95  volvo       gas      turbo         four   \n",
      "202         -1                95  volvo       gas        std         four   \n",
      "203         -1                95  volvo    diesel      turbo         four   \n",
      "204         -1                95  volvo       gas      turbo         four   \n",
      "\n",
      "    body-style drive-wheels engine-location  wheel-base  ...  engine-size  \\\n",
      "3        sedan          fwd           front        99.8  ...          109   \n",
      "4        sedan          4wd           front        99.4  ...          136   \n",
      "6        sedan          fwd           front       105.8  ...          136   \n",
      "8        sedan          fwd           front       105.8  ...          131   \n",
      "10       sedan          rwd           front       101.2  ...          108   \n",
      "..         ...          ...             ...         ...  ...          ...   \n",
      "200      sedan          rwd           front       109.1  ...          141   \n",
      "201      sedan          rwd           front       109.1  ...          141   \n",
      "202      sedan          rwd           front       109.1  ...          173   \n",
      "203      sedan          rwd           front       109.1  ...          145   \n",
      "204      sedan          rwd           front       109.1  ...          141   \n",
      "\n",
      "     fuel-system  bore  stroke compression-ratio horsepower  peak-rpm city-mg  \\\n",
      "3           mpfi  3.19    3.40              10.0        102      5500      24   \n",
      "4           mpfi  3.19    3.40               8.0        115      5500      18   \n",
      "6           mpfi  3.19    3.40               8.5        110      5500      19   \n",
      "8           mpfi  3.13    3.40               8.3        140      5500      17   \n",
      "10          mpfi  3.50    2.80               8.8        101      5800      23   \n",
      "..           ...   ...     ...               ...        ...       ...     ...   \n",
      "200         mpfi  3.78    3.15               9.5        114      5400      23   \n",
      "201         mpfi  3.78    3.15               8.7        160      5300      19   \n",
      "202         mpfi  3.58    2.87               8.8        134      5500      18   \n",
      "203          idi  3.01    3.40              23.0        106      4800      26   \n",
      "204         mpfi  3.78    3.15               9.5        114      5400      19   \n",
      "\n",
      "    highway-mpg  price  \n",
      "3            30  13950  \n",
      "4            22  17450  \n",
      "6            25  17710  \n",
      "8            20  23875  \n",
      "10           29  16430  \n",
      "..          ...    ...  \n",
      "200          28  16845  \n",
      "201          25  19045  \n",
      "202          23  21485  \n",
      "203          27  22470  \n",
      "204          25  22625  \n",
      "\n",
      "[159 rows x 26 columns]\n"
     ]
    }
   ],
   "source": [
    "df.dropna(axis=0,inplace=True)  # clearing entire rows with missing values.  \n",
    "print(df)"
   ]
  },
  {
   "cell_type": "markdown",
   "metadata": {},
   "source": [
    "6. Checking wheater all of the data is of same type or not and modifying them."
   ]
  },
  {
   "cell_type": "code",
   "execution_count": 6,
   "metadata": {},
   "outputs": [
    {
     "name": "stdout",
     "output_type": "stream",
     "text": [
      "symboling              int64\n",
      "normalized-losses     object\n",
      "make                  object\n",
      "fuel-type             object\n",
      "aspiration            object\n",
      "num-of-doors          object\n",
      "body-style            object\n",
      "drive-wheels          object\n",
      "engine-location       object\n",
      "wheel-base           float64\n",
      "length               float64\n",
      "width                float64\n",
      "height               float64\n",
      "curb-weight            int64\n",
      "engine-type           object\n",
      "num-of-cylinders      object\n",
      "engine-size            int64\n",
      "fuel-system           object\n",
      "bore                  object\n",
      "stroke                object\n",
      "compression-ratio    float64\n",
      "horsepower            object\n",
      "peak-rpm              object\n",
      "city-mg                int64\n",
      "highway-mpg            int64\n",
      "price                 object\n",
      "dtype: object\n",
      "symboling              int64\n",
      "normalized-losses      int32\n",
      "make                  object\n",
      "fuel-type             object\n",
      "aspiration            object\n",
      "num-of-doors          object\n",
      "body-style            object\n",
      "drive-wheels          object\n",
      "engine-location       object\n",
      "wheel-base           float64\n",
      "length               float64\n",
      "width                float64\n",
      "height               float64\n",
      "curb-weight            int64\n",
      "engine-type           object\n",
      "num-of-cylinders      object\n",
      "engine-size            int64\n",
      "fuel-system           object\n",
      "bore                 float64\n",
      "stroke               float64\n",
      "compression-ratio    float64\n",
      "horsepower             int32\n",
      "peak-rpm               int32\n",
      "city-mg                int64\n",
      "highway-mpg            int64\n",
      "price                  int32\n",
      "dtype: object\n"
     ]
    }
   ],
   "source": [
    "print(df.dtypes) # checking the data types of columns\n",
    "df[['normalized-losses','horsepower','price','peak-rpm']]=df[['normalized-losses','horsepower','price','peak-rpm']].astype('int')\n",
    "df[['bore','stroke']]=df[['bore','stroke']].astype('float')\n",
    "print(df.dtypes) # checking the updated data types of columns"
   ]
  },
  {
   "cell_type": "markdown",
   "metadata": {},
   "source": [
    "7. correlation between variables(Numericals)"
   ]
  },
  {
   "cell_type": "code",
   "execution_count": 7,
   "metadata": {},
   "outputs": [
    {
     "data": {
      "text/plain": [
       "<bound method DataFrame.corr of      bore  stroke  compression-ratio  horsepower\n",
       "3    3.19    3.40               10.0         102\n",
       "4    3.19    3.40                8.0         115\n",
       "6    3.19    3.40                8.5         110\n",
       "8    3.13    3.40                8.3         140\n",
       "10   3.50    2.80                8.8         101\n",
       "..    ...     ...                ...         ...\n",
       "200  3.78    3.15                9.5         114\n",
       "201  3.78    3.15                8.7         160\n",
       "202  3.58    2.87                8.8         134\n",
       "203  3.01    3.40               23.0         106\n",
       "204  3.78    3.15                9.5         114\n",
       "\n",
       "[159 rows x 4 columns]>"
      ]
     },
     "execution_count": 7,
     "metadata": {},
     "output_type": "execute_result"
    }
   ],
   "source": [
    "df[['bore','stroke','compression-ratio','horsepower']].corr  #correaltion between selcted columns"
   ]
  },
  {
   "cell_type": "markdown",
   "metadata": {},
   "source": [
    "8. plotting scatter plots to show linear realtionship between two variables. "
   ]
  },
  {
   "cell_type": "code",
   "execution_count": 8,
   "metadata": {},
   "outputs": [
    {
     "data": {
      "image/png": "[encoded data removed]",
      "text/plain": [
       "<Figure size 432x288 with 1 Axes>"
      ]
     },
     "metadata": {
      "needs_background": "light"
     },
     "output_type": "display_data"
    },
    {
     "data": {
      "text/html": [
       "<div>\n",
       "<style scoped>\n",
       "    .dataframe tbody tr th:only-of-type {\n",
       "        vertical-align: middle;\n",
       "    }\n",
       "\n",
       "    .dataframe tbody tr th {\n",
       "        vertical-align: top;\n",
       "    }\n",
       "\n",
       "    .dataframe thead th {\n",
       "        text-align: right;\n",
       "    }\n",
       "</style>\n",
       "<table border=\"1\" class=\"dataframe\">\n",
       "  <thead>\n",
       "    <tr style=\"text-align: right;\">\n",
       "      <th></th>\n",
       "      <th>engine-size</th>\n",
       "      <th>price</th>\n",
       "    </tr>\n",
       "  </thead>\n",
       "  <tbody>\n",
       "    <tr>\n",
       "      <th>engine-size</th>\n",
       "      <td>1.000000</td>\n",
       "      <td>0.841496</td>\n",
       "    </tr>\n",
       "    <tr>\n",
       "      <th>price</th>\n",
       "      <td>0.841496</td>\n",
       "      <td>1.000000</td>\n",
       "    </tr>\n",
       "  </tbody>\n",
       "</table>\n",
       "</div>"
      ],
      "text/plain": [
       "             engine-size     price\n",
       "engine-size     1.000000  0.841496\n",
       "price           0.841496  1.000000"
      ]
     },
     "execution_count": 8,
     "metadata": {},
     "output_type": "execute_result"
    }
   ],
   "source": [
    "sns.regplot(x='engine-size',y='price',data=df) #using seaborn statistical fuctions. more about arguments on copy\n",
    "plt.ylim(0,)                                   #sets upper and lower limit of Y-axis \n",
    "plt.xlim(0,)                                   #sets upper and lower limit of X-axis\n",
    "plt.title('Correaltion between two variables')\n",
    "plt.show()\n",
    "df[['engine-size','price']].corr()             #calculating correaltion value"
   ]
  },
  {
   "cell_type": "markdown",
   "metadata": {},
   "source": [
    "9. Correlation betweeen categorical values.\n",
    "   9.1 Box-Plot "
   ]
  },
  {
   "cell_type": "markdown",
   "metadata": {},
   "source": [
    "10.SIMPLE LINEAR REGRESSION MODEL- to FIT the MODEL"
   ]
  },
  {
   "cell_type": "code",
   "execution_count": 13,
   "metadata": {},
   "outputs": [
    {
     "ename": "TypeError",
     "evalue": "fit() missing 1 required positional argument: 'y'",
     "output_type": "error",
     "traceback": [
      "\u001b[1;31m---------------------------------------------------------------------------\u001b[0m",
      "\u001b[1;31mTypeError\u001b[0m                                 Traceback (most recent call last)",
      "\u001b[1;32mc:\\Users\\sanju\\OneDrive\\Desktop\\Git\\Python_Codes\\DA_Notebook.ipynb Cell 19'\u001b[0m in \u001b[0;36m<cell line: 5>\u001b[1;34m()\u001b[0m\n\u001b[0;32m      <a href='vscode-notebook-cell:/c%3A/Users/sanju/OneDrive/Desktop/Git/Python_Codes/DA_Notebook.ipynb#ch0000019?line=2'>3</a>\u001b[0m x\u001b[39m=\u001b[39mdf[[\u001b[39m'\u001b[39m\u001b[39mhighway-mpg\u001b[39m\u001b[39m'\u001b[39m]]\n\u001b[0;32m      <a href='vscode-notebook-cell:/c%3A/Users/sanju/OneDrive/Desktop/Git/Python_Codes/DA_Notebook.ipynb#ch0000019?line=3'>4</a>\u001b[0m y\u001b[39m=\u001b[39mdf[[\u001b[39m'\u001b[39m\u001b[39mprice\u001b[39m\u001b[39m'\u001b[39m]]\n\u001b[1;32m----> <a href='vscode-notebook-cell:/c%3A/Users/sanju/OneDrive/Desktop/Git/Python_Codes/DA_Notebook.ipynb#ch0000019?line=4'>5</a>\u001b[0m lm\u001b[39m.\u001b[39;49mfit(x,y)\n\u001b[0;32m      <a href='vscode-notebook-cell:/c%3A/Users/sanju/OneDrive/Desktop/Git/Python_Codes/DA_Notebook.ipynb#ch0000019?line=5'>6</a>\u001b[0m yhat\u001b[39m=\u001b[39mlm\u001b[39m.\u001b[39mpredict(x)\n",
      "\u001b[1;31mTypeError\u001b[0m: fit() missing 1 required positional argument: 'y'"
     ]
    }
   ],
   "source": [
    "from sklearn.linear_model import LinearRegression\n",
    "lm=LinearRegression\n",
    "x=df[['highway-mpg']]\n",
    "y=df[['price']]\n",
    "lm.fit(x,y)\n",
    "yhat=lm.predict(x)"
   ]
  }
 ],
 "metadata": {
  "interpreter": {
   "hash": "02f127b9d0abac2ee46e9ec658e9c8fddfe1cc2fb79c775a46d0aeeea21bcd59"
  },
  "kernelspec": {
   "display_name": "Python 3.9.10 64-bit (windows store)",
   "language": "python",
   "name": "python3"
  },
  "language_info": {
   "codemirror_mode": {
    "name": "ipython",
    "version": 3
   },
   "file_extension": ".py",
   "mimetype": "text/x-python",
   "name": "python",
   "nbconvert_exporter": "python",
   "pygments_lexer": "ipython3",
   "version": "3.9.12"
  },
  "orig_nbformat": 4
 },
 "nbformat": 4,
 "nbformat_minor": 2
}
